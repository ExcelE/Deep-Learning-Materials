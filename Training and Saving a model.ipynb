{
 "cells": [
  {
   "cell_type": "code",
   "execution_count": 1,
   "metadata": {},
   "outputs": [
    {
     "name": "stdout",
     "output_type": "stream",
     "text": [
      "3-conv-64-nodes-0-dense-1541348090\n",
      "Train on 17462 samples, validate on 7484 samples\n",
      "Epoch 1/10\n",
      "17462/17462 [==============================] - 10s 562us/step - loss: 0.6121 - acc: 0.6585 - val_loss: 0.5754 - val_acc: 0.7064\n",
      "Epoch 2/10\n",
      "17462/17462 [==============================] - 8s 483us/step - loss: 0.5039 - acc: 0.7541 - val_loss: 0.5254 - val_acc: 0.7433\n",
      "Epoch 3/10\n",
      "17462/17462 [==============================] - 8s 484us/step - loss: 0.4524 - acc: 0.7905 - val_loss: 0.4512 - val_acc: 0.7894\n",
      "Epoch 4/10\n",
      "17462/17462 [==============================] - 8s 484us/step - loss: 0.4043 - acc: 0.8157 - val_loss: 0.4513 - val_acc: 0.7879\n",
      "Epoch 5/10\n",
      "17462/17462 [==============================] - 8s 478us/step - loss: 0.3696 - acc: 0.8348 - val_loss: 0.3981 - val_acc: 0.8195\n",
      "Epoch 6/10\n",
      "17462/17462 [==============================] - 9s 497us/step - loss: 0.3388 - acc: 0.8492 - val_loss: 0.3841 - val_acc: 0.8330\n",
      "Epoch 7/10\n",
      "17462/17462 [==============================] - 9s 519us/step - loss: 0.3049 - acc: 0.8694 - val_loss: 0.3823 - val_acc: 0.8365\n",
      "Epoch 8/10\n",
      "17462/17462 [==============================] - 9s 497us/step - loss: 0.2790 - acc: 0.8786 - val_loss: 0.3873 - val_acc: 0.8342\n",
      "Epoch 9/10\n",
      "17462/17462 [==============================] - 9s 495us/step - loss: 0.2578 - acc: 0.8896 - val_loss: 0.3853 - val_acc: 0.8340\n",
      "Epoch 10/10\n",
      "17462/17462 [==============================] - 9s 493us/step - loss: 0.2287 - acc: 0.9051 - val_loss: 0.3824 - val_acc: 0.8433\n"
     ]
    }
   ],
   "source": [
    "from tensorflow.keras.models import Sequential\n",
    "from tensorflow.keras.layers import Dense, Dropout, Activation, Flatten\n",
    "from tensorflow.keras.layers import Conv2D, MaxPooling2D\n",
    "# more info on callbakcs: https://keras.io/callbacks/ model saver is cool too.\n",
    "from tensorflow.keras.callbacks import TensorBoard\n",
    "import pickle\n",
    "import time\n",
    "\n",
    "pickle_in = open(\"pickles/X.pickle\",\"rb\")\n",
    "X = pickle.load(pickle_in)\n",
    "\n",
    "pickle_in = open(\"pickles/y.pickle\",\"rb\")\n",
    "y = pickle.load(pickle_in)\n",
    "\n",
    "X = X/255.0\n",
    "\n",
    "dense_layers = [0]\n",
    "layer_sizes = [64]\n",
    "conv_layers = [3]\n",
    "\n",
    "for dense_layer in dense_layers:\n",
    "    for layer_size in layer_sizes:\n",
    "        for conv_layer in conv_layers:\n",
    "            NAME = \"{}-conv-{}-nodes-{}-dense-{}\".format(conv_layer, layer_size, dense_layer, int(time.time()))\n",
    "            print(NAME)\n",
    "\n",
    "            model = Sequential()\n",
    "\n",
    "            model.add(Conv2D(layer_size, (3, 3), input_shape=X.shape[1:]))\n",
    "            model.add(Activation('relu'))\n",
    "            model.add(MaxPooling2D(pool_size=(2, 2)))\n",
    "\n",
    "            for l in range(conv_layer-1):\n",
    "                model.add(Conv2D(layer_size, (3, 3)))\n",
    "                model.add(Activation('relu'))\n",
    "                model.add(MaxPooling2D(pool_size=(2, 2)))\n",
    "\n",
    "            model.add(Flatten())\n",
    "\n",
    "            for _ in range(dense_layer):\n",
    "                model.add(Dense(layer_size))\n",
    "                model.add(Activation('relu'))\n",
    "\n",
    "            model.add(Dense(1))\n",
    "            model.add(Activation('sigmoid'))\n",
    "\n",
    "            tensorboard = TensorBoard(log_dir=\"logs/{}\".format(NAME))\n",
    "\n",
    "            model.compile(loss='binary_crossentropy',\n",
    "                          optimizer='adam',\n",
    "                          metrics=['accuracy'],\n",
    "                          )\n",
    "\n",
    "            model.fit(X, y,\n",
    "                      batch_size=32,\n",
    "                      epochs=10,\n",
    "                      validation_split=0.3,\n",
    "                      callbacks=[tensorboard])\n",
    "\n",
    "model.save('64x3-CNN.model')"
   ]
  },
  {
   "cell_type": "code",
   "execution_count": null,
   "metadata": {},
   "outputs": [],
   "source": []
  }
 ],
 "metadata": {
  "kernelspec": {
   "display_name": "Python 3",
   "language": "python",
   "name": "python3"
  },
  "language_info": {
   "codemirror_mode": {
    "name": "ipython",
    "version": 3
   },
   "file_extension": ".py",
   "mimetype": "text/x-python",
   "name": "python",
   "nbconvert_exporter": "python",
   "pygments_lexer": "ipython3",
   "version": "3.6.7"
  }
 },
 "nbformat": 4,
 "nbformat_minor": 2
}
